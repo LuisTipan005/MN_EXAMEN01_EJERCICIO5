{
 "cells": [
  {
   "cell_type": "markdown",
   "id": "a4cff2c9-19f7-49b5-8907-a2ed56d2496f",
   "metadata": {},
   "source": [
    "## Ejercicio 5"
   ]
  },
  {
   "cell_type": "markdown",
   "id": "9e54b684-05a6-43e1-80b2-062fb816375f",
   "metadata": {},
   "source": [
    "Optimizaso"
   ]
  },
  {
   "cell_type": "code",
   "execution_count": 20,
   "id": "51a5f04e-4015-4450-9dd6-87a5b0a7a81c",
   "metadata": {},
   "outputs": [],
   "source": [
    "def secant_method(f, x0, x1, tol=1e-6, max_iter=100):\n",
    "    \"\"\"\n",
    "    Método de la secante optimizado para minimizar el número de llamadas a la función.\n",
    "\n",
    "    # Parameters\n",
    "    - ``f``: La función para la cual se busca la raíz.\n",
    "    - ``x0``, x1: Suposiciones iniciales para la raíz.\n",
    "    - ``tol``: Tolerancia para la convergencia (default: 1e-6).\n",
    "    - ``max_iter``: Número máximo de iteraciones (default: 100).\n",
    "\n",
    "    # Returns\n",
    "    - ``x_curr``: La raíz aproximada de la función.\n",
    "    - ``iter_count``: Número de iteraciones realizadas.\n",
    "    \"\"\"\n",
    "    x_prev = x0\n",
    "    x_curr = x1\n",
    "    iter_count = 0\n",
    "\n",
    "    f_prev = f(x_prev)\n",
    "    f_curr = f(x_curr)\n",
    "\n",
    "    while abs(f_curr) > tol and iter_count < max_iter:\n",
    "\n",
    "        x_next = x_curr - f_curr * (x_curr - x_prev) / (f_curr - f_prev)\n",
    "        x_prev, f_prev = x_curr, f_curr\n",
    "        x_curr = x_next\n",
    "        f_curr = f(x_curr)\n",
    "\n",
    "        iter_count += 1\n",
    "\n",
    "    return x_curr, iter_count"
   ]
  },
  {
   "cell_type": "code",
   "execution_count": 22,
   "id": "dd3b2db9-add7-4081-9833-cf7a8134bed7",
   "metadata": {},
   "outputs": [
    {
     "name": "stdout",
     "output_type": "stream",
     "text": [
      "Ejemplo 1:\n",
      "Llamada i=1\t x=2.00000\t y=-3.00\n",
      "Llamada i=2\t x=3.00000\t y=2.00\n",
      "Llamada i=3\t x=2.60000\t y=-1.10\n",
      "Llamada i=4\t x=2.74227\t y=-0.20\n",
      "Llamada i=5\t x=2.77296\t y=0.03\n",
      "Llamada i=6\t x=2.76922\t y=-0.00\n",
      "Llamada i=7\t x=2.76929\t y=-0.00\n",
      "Llamada i=8\t x=2.76929\t y=0.00\n"
     ]
    },
    {
     "data": {
      "text/plain": [
       "(2.7692923542484045, 6)"
      ]
     },
     "execution_count": 22,
     "metadata": {},
     "output_type": "execute_result"
    }
   ],
   "source": [
    "# Ejemplo 1\n",
    "print(\"Ejemplo 1:\")\n",
    "i = 0\n",
    "def func(x):\n",
    "    global i\n",
    "    i += 1\n",
    "    y = x**3 - 3 * x**2 + x - 1\n",
    "    print(f\"Llamada i={i}\\t x={x:.5f}\\t y={y:.2f}\")\n",
    "    return y\n",
    "\n",
    "secant_method(func, x0=2, x1=3)"
   ]
  },
  {
   "cell_type": "code",
   "execution_count": 24,
   "id": "642e520a-e839-4c1a-9eb2-c4eed0e4562f",
   "metadata": {},
   "outputs": [
    {
     "name": "stdout",
     "output_type": "stream",
     "text": [
      "\n",
      "Ejemplo 2:\n",
      "Llamada i=1\t x=2.00000\t y=1.41\n",
      "Llamada i=2\t x=3.00000\t y=0.64\n",
      "Llamada i=3\t x=3.83460\t y=-0.14\n",
      "Llamada i=4\t x=3.68602\t y=-0.02\n",
      "Llamada i=5\t x=3.66399\t y=0.00\n",
      "Llamada i=6\t x=3.66520\t y=-0.00\n",
      "Llamada i=7\t x=3.66519\t y=-0.00\n"
     ]
    },
    {
     "data": {
      "text/plain": [
       "(3.66519143172732, 5)"
      ]
     },
     "execution_count": 24,
     "metadata": {},
     "output_type": "execute_result"
    }
   ],
   "source": [
    "print(\"\\nEjemplo 2:\")\n",
    "i = 0\n",
    "import math\n",
    "def func(x):\n",
    "    global i\n",
    "    i += 1\n",
    "    y = math.sin(x) + 0.5\n",
    "    print(f\"Llamada i={i}\\t x={x:.5f}\\t y={y:.2f}\")\n",
    "    return y\n",
    "\n",
    "secant_method(func, x0=2, x1=3)"
   ]
  },
  {
   "cell_type": "code",
   "execution_count": null,
   "id": "af9fb4e6-9f9f-4a18-955e-8a784cb7e74e",
   "metadata": {},
   "outputs": [],
   "source": []
  }
 ],
 "metadata": {
  "kernelspec": {
   "display_name": "Python 3 (ipykernel)",
   "language": "python",
   "name": "python3"
  },
  "language_info": {
   "codemirror_mode": {
    "name": "ipython",
    "version": 3
   },
   "file_extension": ".py",
   "mimetype": "text/x-python",
   "name": "python",
   "nbconvert_exporter": "python",
   "pygments_lexer": "ipython3",
   "version": "3.12.4"
  }
 },
 "nbformat": 4,
 "nbformat_minor": 5
}
